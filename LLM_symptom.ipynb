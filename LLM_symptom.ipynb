{
  "nbformat": 4,
  "nbformat_minor": 0,
  "metadata": {
    "colab": {
      "provenance": [],
      "authorship_tag": "ABX9TyM1bdZT0OODHITkXwWjUQvF",
      "include_colab_link": true
    },
    "kernelspec": {
      "name": "python3",
      "display_name": "Python 3"
    },
    "language_info": {
      "name": "python"
    }
  },
  "cells": [
    {
      "cell_type": "markdown",
      "metadata": {
        "id": "view-in-github",
        "colab_type": "text"
      },
      "source": [
        "<a href=\"https://colab.research.google.com/github/seeboontay/LLM_symptom_extraction/blob/main/LLM_symptom.ipynb\" target=\"_parent\"><img src=\"https://colab.research.google.com/assets/colab-badge.svg\" alt=\"Open In Colab\"/></a>"
      ]
    },
    {
      "cell_type": "code",
      "execution_count": 1,
      "metadata": {
        "colab": {
          "base_uri": "https://localhost:8080/"
        },
        "id": "_HyG0wlPrhlL",
        "outputId": "b9b9a947-ac31-4bb2-9398-8f2f2da0cfd5"
      },
      "outputs": [
        {
          "output_type": "stream",
          "name": "stdout",
          "text": [
            "Requirement already satisfied: transformers in /usr/local/lib/python3.11/dist-packages (4.47.1)\n",
            "Requirement already satisfied: pandas in /usr/local/lib/python3.11/dist-packages (2.2.2)\n",
            "Requirement already satisfied: filelock in /usr/local/lib/python3.11/dist-packages (from transformers) (3.17.0)\n",
            "Requirement already satisfied: huggingface-hub<1.0,>=0.24.0 in /usr/local/lib/python3.11/dist-packages (from transformers) (0.27.1)\n",
            "Requirement already satisfied: numpy>=1.17 in /usr/local/lib/python3.11/dist-packages (from transformers) (1.26.4)\n",
            "Requirement already satisfied: packaging>=20.0 in /usr/local/lib/python3.11/dist-packages (from transformers) (24.2)\n",
            "Requirement already satisfied: pyyaml>=5.1 in /usr/local/lib/python3.11/dist-packages (from transformers) (6.0.2)\n",
            "Requirement already satisfied: regex!=2019.12.17 in /usr/local/lib/python3.11/dist-packages (from transformers) (2024.11.6)\n",
            "Requirement already satisfied: requests in /usr/local/lib/python3.11/dist-packages (from transformers) (2.32.3)\n",
            "Requirement already satisfied: tokenizers<0.22,>=0.21 in /usr/local/lib/python3.11/dist-packages (from transformers) (0.21.0)\n",
            "Requirement already satisfied: safetensors>=0.4.1 in /usr/local/lib/python3.11/dist-packages (from transformers) (0.5.2)\n",
            "Requirement already satisfied: tqdm>=4.27 in /usr/local/lib/python3.11/dist-packages (from transformers) (4.67.1)\n",
            "Requirement already satisfied: python-dateutil>=2.8.2 in /usr/local/lib/python3.11/dist-packages (from pandas) (2.8.2)\n",
            "Requirement already satisfied: pytz>=2020.1 in /usr/local/lib/python3.11/dist-packages (from pandas) (2024.2)\n",
            "Requirement already satisfied: tzdata>=2022.7 in /usr/local/lib/python3.11/dist-packages (from pandas) (2025.1)\n",
            "Requirement already satisfied: fsspec>=2023.5.0 in /usr/local/lib/python3.11/dist-packages (from huggingface-hub<1.0,>=0.24.0->transformers) (2024.10.0)\n",
            "Requirement already satisfied: typing-extensions>=3.7.4.3 in /usr/local/lib/python3.11/dist-packages (from huggingface-hub<1.0,>=0.24.0->transformers) (4.12.2)\n",
            "Requirement already satisfied: six>=1.5 in /usr/local/lib/python3.11/dist-packages (from python-dateutil>=2.8.2->pandas) (1.17.0)\n",
            "Requirement already satisfied: charset-normalizer<4,>=2 in /usr/local/lib/python3.11/dist-packages (from requests->transformers) (3.4.1)\n",
            "Requirement already satisfied: idna<4,>=2.5 in /usr/local/lib/python3.11/dist-packages (from requests->transformers) (3.10)\n",
            "Requirement already satisfied: urllib3<3,>=1.21.1 in /usr/local/lib/python3.11/dist-packages (from requests->transformers) (2.3.0)\n",
            "Requirement already satisfied: certifi>=2017.4.17 in /usr/local/lib/python3.11/dist-packages (from requests->transformers) (2024.12.14)\n"
          ]
        }
      ],
      "source": [
        "#!pip install transformers pandas  # Install Hugging Face LLMs and data tools"
      ]
    },
    {
      "cell_type": "code",
      "source": [
        "from transformers import pipeline\n",
        "\n",
        "# Load a text-generation pipeline\n",
        "symptom_extractor = pipeline(\n",
        "    \"text-generation\",\n",
        "    model=\"distilgpt2\"  # Small and fast for testing\n",
        ")"
      ],
      "metadata": {
        "id": "GA0HrnBCrs7W"
      },
      "execution_count": null,
      "outputs": []
    },
    {
      "cell_type": "code",
      "source": [
        "examples = [\n",
        "    {\n",
        "        \"note\": \"Patient reports headache and nausea. Denies fever.\",\n",
        "        \"symptoms\": [\"headache\", \"nausea\"]\n",
        "    },\n",
        "    {\n",
        "        \"note\": \"Complains of chest pain and shortness of breath.\",\n",
        "        \"symptoms\": [\"chest pain\", \"shortness of breath\"]\n",
        "    }\n",
        "]"
      ],
      "metadata": {
        "id": "vSOa7APYr3i9"
      },
      "execution_count": null,
      "outputs": []
    },
    {
      "cell_type": "code",
      "source": [
        "def build_prompt(note):\n",
        "    prompt = \"\"\"Extract symptoms from clinical notes. Ignore negated symptoms.\n",
        "Examples:\n",
        "\"\"\"\n",
        "    # Add examples to the prompt\n",
        "    for example in examples:\n",
        "        prompt += f\"Note: {example['note']}\\nSymptoms: {example['symptoms']}\\n\"\n",
        "\n",
        "    # Add the new note to analyze\n",
        "    prompt += f\"\\nNote: {note}\\nSymptoms:\"\n",
        "    return prompt\n",
        "\n",
        "#Test the prompt\n",
        "test_note = \"Fatigue and dizziness x3 days. No vomiting.\"\n",
        "print(build_prompt(test_note))"
      ],
      "metadata": {
        "id": "JcOMNOp0r31w"
      },
      "execution_count": null,
      "outputs": []
    },
    {
      "cell_type": "code",
      "source": [
        "# Generate a response\n",
        "prompt = build_prompt(test_note)\n",
        "response = symptom_extractor(\n",
        "    prompt,\n",
        "    max_length=100,\n",
        "    temperature=0.1  # Low randomness for precise output\n",
        ")\n",
        "\n",
        "# Extract the answer\n",
        "output = response[0]['generated_text'].split(\"Symptoms:\")[-1].strip()\n",
        "print(\"Extracted Symptoms:\", output)"
      ],
      "metadata": {
        "id": "CAto22Swr4BY"
      },
      "execution_count": null,
      "outputs": []
    },
    {
      "cell_type": "code",
      "source": [
        "# Simple symptom list (like a mini-database)\n",
        "symptom_database = [\"headache\", \"nausea\", \"chest pain\", \"shortness of breath\", \"fatigue\", \"dizziness\"]\n",
        "\n",
        "def rag_augment(note):\n",
        "    # Find symptoms in the note that match the database\n",
        "    matched_symptoms = [symptom for symptom in symptom_database if symptom in note.lower()]\n",
        "    return f\"Possible symptoms: {matched_symptoms}\\nNote: {note}\"\n",
        "\n",
        "# Test RAG\n",
        "rag_note = rag_augment(test_note)\n",
        "print(rag_augment(test_note))"
      ],
      "metadata": {
        "id": "7oOCYiZ2spAT"
      },
      "execution_count": null,
      "outputs": []
    },
    {
      "cell_type": "code",
      "source": [
        "def extract_symptoms(note):\n",
        "    # Step 1: Augment with RAG\n",
        "    rag_note = rag_augment(note)\n",
        "\n",
        "    # Step 2: Build the prompt\n",
        "    prompt = build_prompt(rag_note)\n",
        "\n",
        "    # Step 3: Generate and parse output\n",
        "    response = symptom_extractor(prompt, max_length=100, temperature=0.1)\n",
        "    output = response[0]['generated_text'].split(\"Symptoms:\")[-1].strip()\n",
        "\n",
        "    return output\n",
        "\n",
        "# Test the full pipeline\n",
        "test_note_2 = \"Sore throat and runny nose. Denies fever.\"\n",
        "print(extract_symptoms(test_note_2))"
      ],
      "metadata": {
        "id": "m8OqGrhPuCH7"
      },
      "execution_count": null,
      "outputs": []
    },
    {
      "cell_type": "code",
      "source": [],
      "metadata": {
        "id": "JVfiXQXnuHpk"
      },
      "execution_count": null,
      "outputs": []
    }
  ]
}